# Finding Optimal Locations for New Stores
# This notebook is an example of how Decision Optimization can help to prescribe decisions for a complex constrained problem.

# Step 1: Import the DOcplex package
import sys
import docplex.mp

# Step 2: Model the data
try:
    import geopy.distance
except:
    if hasattr(sys, 'real_prefix'):
        !pip install geopy 
    else:
        !pip install --user geopy

from geopy.distance import great_circle

# Simple distance computation between 2 locations.
def get_distance(p1, p2):
    return great_circle((p1.y, p1.x), (p2.y, p2.x)).miles

# Store longitude, latitude, and street crossing name of each public library location.
class XPoint(object):
    def __init__(self, x, y):
        self.x = x
        self.y = y
    def __str__(self):
        return "P(%g_%g)" % (self.x, self.y)

class NamedPoint(XPoint):
    def __init__(self, name, x, y):
        XPoint.__init__(self, x, y)
        self.name = name
    def __str__(self):
        return self.name

# Step 3: Prepare the data
import requests
import json

def build_libraries_from_url(url, name_pos, lat_long_pos):
    r = requests.get(url)
    myjson = json.loads(r.text, parse_constant='utf-8')
    myjson = myjson['data']
    libraries = []
    k = 1
    for location in myjson:
        uname = location[name_pos]
        try:
            latitude = float(location[lat_long_pos][1])
            longitude = float(location[lat_long_pos][2])
        except TypeError:
            latitude = longitude = None
        name = "P_%s_%d" % (str(uname), k)
        if latitude and longitude:
            cp = NamedPoint(name, longitude, latitude)
            libraries.append(cp)
            k += 1
    return libraries

libraries = build_libraries_from_url('https://data.cityofchicago.org/api/views/x8fc-8rcq/rows.json?accessType=DOWNLOAD',
                                     name_pos=10, lat_long_pos=16)

print("There are %d public libraries in Chicago" % (len(libraries)))

# Define number of shops to open
nb_shops = 5
print("We would like to open %d coffee shops" % nb_shops)

# Step 4: Set up the prescriptive model
from docplex.mp.model import Model

mdl = Model("coffee shops")

# Decision variables
BIGNUM = 999999999

libraries = set(libraries)
coffeeshop_locations = libraries
coffeeshop_vars = mdl.binary_var_dict(coffeeshop_locations, name="is_coffeeshop")
link_vars = mdl.binary_var_matrix(coffeeshop_locations, libraries, "link")

# Business constraints
for c_loc in coffeeshop_locations:
    for b in libraries:
        if get_distance(c_loc, b) >= BIGNUM:
            mdl.add_constraint(link_vars[c_loc, b] == 0)

mdl.add_constraints(link_vars[c_loc, b] <= coffeeshop_vars[c_loc]
                    for b in libraries
                    for c_loc in coffeeshop_locations)

mdl.add_constraints(mdl.sum(link_vars[c_loc, b] for c_loc in coffeeshop_locations) == 1
                    for b in libraries)

mdl.add_constraint(mdl.sum(coffeeshop_vars[c_loc] for c_loc in coffeeshop_locations) == nb_shops)

# Objective: minimize total distance
total_distance = mdl.sum(link_vars[c_loc, b] * get_distance(c_loc, b) 
                         for c_loc in coffeeshop_locations for b in libraries)
mdl.minimize(total_distance)

# Solve the model
assert mdl.solve(), "!!! Solve of the model fails"

# Step 5: Investigate the solution and run an example analysis
total_distance = mdl.objective_value
open_coffeeshops = [c_loc for c_loc in coffeeshop_locations if coffeeshop_vars[c_loc].solution_value == 1]
edges = [(c_loc, b) for b in libraries for c_loc in coffeeshop_locations if int(link_vars[c_loc, b]) == 1]

print("Total distance = %g" % total_distance)
print("# coffee shops  = {0}".format(len(open_coffeeshops)))
for c in open_coffeeshops:
    print("new coffee shop: {0!s}".format(c))

# Displaying the solution
try:
    import folium
except:
    if hasattr(sys, 'real_prefix'):
        !pip install folium 
    else:
        !pip install folium

import folium
map_osm = folium.Map(location=[41.878, -87.629], zoom_start=11)
for coffeeshop in open_coffeeshops:
    lt = coffeeshop.y
    lg = coffeeshop.x
    folium.Marker([lt, lg], icon=folium.Icon(color='red',icon='info-sign')).add_to(map_osm)

for b in libraries:
    if b not in open_coffeeshops:
        lt = b.y
        lg = b.x
        folium.Marker([lt, lg]).add_to(map_osm)

for (c, b) in edges:
    coordinates = [[c.y, c.x], [b.y, b.x]]
    map_osm.add_child(folium.PolyLine(coordinates, color='#FF0000', weight=5))

map_osm
